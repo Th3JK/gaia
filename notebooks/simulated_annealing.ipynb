{
 "cells": [
  {
   "metadata": {},
   "cell_type": "markdown",
   "source": [
    "# Simulated Annealing algorithm\n",
    "In this notebook, we will explore the Simulated Annealing algorithm. We'll explain its purpose, how it works, and demonstrate it using example functions and visualizations."
   ],
   "id": "9636134539e2f338"
  },
  {
   "metadata": {},
   "cell_type": "markdown",
   "source": [
    "## What is Simulated Annealing?\n",
    "Simulated Annealing (SA) is an optimization algorithm inspired by the annealing process in metallurgy. It searches for a global minimum of a function by exploring the search space probabilistically, allowing occasional uphill moves to escape local minima.\n",
    "\n",
    "**Key points**:\n",
    "- Does not require gradients; works with the function value only.\n",
    "- Uses a temperature parameter to control the probability of accepting worse solutions.\n",
    "- Allows occasional moves to worse solutions early on to avoid getting stuck in local minima.\n",
    "- Gradually reduces temperature, decreasing the likelihood of accepting worse solutions over time.\n",
    "- Stops when temperature is very low or maximum iterations are reached."
   ],
   "id": "21fdfceec1c770bc"
  },
  {
   "metadata": {},
   "cell_type": "markdown",
   "source": [
    "## How Simulated Annealing works?\n",
    "1. Initialize the search space bounds, the function to minimize, and starting temperature.\n",
    "2. Generate a random starting point and evaluate the function.\n",
    "3. Repeat until stopping criteria is met:\n",
    "    - Generate a new candidate solution (often by a small random change).\n",
    "    - Evaluate the function at this candidate.\n",
    "    - If the new solution is better, accept it.\n",
    "    - If the new solution is worse, accept it with probability:\n",
    "      $P = e^{-\\frac{\\Delta f}{T}}$\n",
    "      where $\\Delta f$ is the increase in function value and $T$ is the current temperature.\n",
    "    - Gradually decrease the temperature according to a cooling schedule.\n",
    "4. Return the best solution found."
   ],
   "id": "d20db2eb240cd2c9"
  },
  {
   "metadata": {},
   "cell_type": "markdown",
   "source": "## How does Simulated Annealing look?",
   "id": "6c44bd9805681356"
  },
  {
   "metadata": {},
   "cell_type": "markdown",
   "source": [
    "## Visualization\n",
    "Next, we will visualize the Simulated Annealing algorithm using the following benchmark functions:\n",
    "\n",
    "- Sphere\n",
    "- Ackley\n",
    "- Rastrigin\n",
    "- Rosenbrock\n",
    "- Griewank\n",
    "- Schwefel\n",
    "- Lévy\n",
    "- Michalewicz\n",
    "- Zakharov\n",
    "\n",
    "For more details about these functions and their implementations, please refer to the `test_functions.ipynb` notebook or check the `src/functions.py` file."
   ],
   "id": "d5f5a9cd5315f145"
  },
  {
   "cell_type": "code",
   "id": "initial_id",
   "metadata": {
    "collapsed": true,
    "ExecuteTime": {
     "end_time": "2025-10-01T11:36:30.144349Z",
     "start_time": "2025-10-01T11:36:15.777776Z"
    }
   },
   "source": [
    "from src.benchmark_algorithm import benchmark_algorithm\n",
    "from src.algorithms.simulated_annealing import SimulatedAnnealing\n",
    "\n",
    "benchmark_algorithm(SimulatedAnnealing)"
   ],
   "outputs": [
    {
     "name": "stdout",
     "output_type": "stream",
     "text": [
      "Function: sphere, Algorithm: SimulatedAnnealing, Best found solution: 0.6394809015936486\n",
      "Animating step #0\n",
      "Animating step #0\n",
      "Animating step #1\n",
      "Animating step #2\n",
      "Animating step #3\n",
      "Animating step #4\n",
      "Animating step #5\n",
      "Animating step #6\n",
      "Animating step #7\n",
      "Animating step #8\n",
      "Animating step #9\n",
      "Animating step #10\n",
      "Animating step #11\n",
      "Animating step #12\n",
      "Animating step #13\n",
      "Function: ackley, Algorithm: SimulatedAnnealing, Best found solution: 19.74296278382179\n",
      "Animating step #0\n",
      "Animating step #0\n",
      "Animating step #1\n",
      "Animating step #2\n",
      "Function: rastrigin, Algorithm: SimulatedAnnealing, Best found solution: 6.83221753876726\n",
      "Animating step #0\n",
      "Animating step #0\n",
      "Animating step #1\n",
      "Animating step #2\n",
      "Function: rosenbrock, Algorithm: SimulatedAnnealing, Best found solution: 0.9746461438459475\n",
      "Animating step #0\n",
      "Animating step #0\n",
      "Animating step #1\n",
      "Animating step #2\n",
      "Animating step #3\n",
      "Animating step #4\n",
      "Animating step #5\n",
      "Animating step #6\n",
      "Animating step #7\n",
      "Animating step #8\n",
      "Animating step #9\n",
      "Animating step #10\n",
      "Animating step #11\n",
      "Animating step #12\n",
      "Animating step #13\n",
      "Animating step #14\n",
      "Animating step #15\n",
      "Animating step #16\n",
      "Animating step #17\n",
      "Animating step #18\n",
      "Animating step #19\n",
      "Animating step #20\n",
      "Animating step #21\n",
      "Function: griewank, Algorithm: SimulatedAnnealing, Best found solution: 0.7778946616469967\n",
      "Animating step #0\n",
      "Animating step #0\n",
      "Animating step #1\n",
      "Animating step #2\n",
      "Animating step #3\n",
      "Animating step #4\n",
      "Function: schwefel, Algorithm: SimulatedAnnealing, Best found solution: 963.2354580651584\n",
      "Animating step #0\n",
      "Animating step #0\n",
      "Animating step #1\n",
      "Animating step #2\n",
      "Animating step #3\n",
      "Animating step #4\n",
      "Animating step #5\n",
      "Animating step #6\n",
      "Animating step #7\n",
      "Animating step #8\n",
      "Animating step #9\n",
      "Animating step #10\n",
      "Animating step #11\n",
      "Animating step #12\n",
      "Animating step #13\n",
      "Animating step #14\n",
      "Animating step #15\n",
      "Animating step #16\n",
      "Animating step #17\n",
      "Animating step #18\n",
      "Animating step #19\n",
      "Animating step #20\n",
      "Animating step #21\n",
      "Function: levy, Algorithm: SimulatedAnnealing, Best found solution: 0.0997227062709296\n",
      "Animating step #0\n",
      "Animating step #0\n",
      "Animating step #1\n",
      "Animating step #2\n",
      "Animating step #3\n",
      "Animating step #4\n",
      "Animating step #5\n",
      "Animating step #6\n",
      "Animating step #7\n",
      "Animating step #8\n",
      "Animating step #9\n",
      "Animating step #10\n",
      "Function: michalewicz, Algorithm: SimulatedAnnealing, Best found solution: -1.029037887794739\n",
      "Animating step #0\n",
      "Animating step #0\n",
      "Animating step #1\n",
      "Animating step #2\n",
      "Function: zakharov, Algorithm: SimulatedAnnealing, Best found solution: 0.018412184659493014\n",
      "Animating step #0\n",
      "Animating step #0\n",
      "Animating step #1\n",
      "Animating step #2\n",
      "Animating step #3\n",
      "Animating step #4\n",
      "Animating step #5\n",
      "Animating step #6\n",
      "Animating step #7\n",
      "Animating step #8\n",
      "Animating step #9\n",
      "Animating step #10\n",
      "Animating step #11\n",
      "Animating step #12\n",
      "Animating step #13\n",
      "Animating step #14\n",
      "Animating step #15\n",
      "Animating step #16\n",
      "Animating step #17\n"
     ]
    }
   ],
   "execution_count": 1
  },
  {
   "metadata": {},
   "cell_type": "markdown",
   "source": [
    "### Optimization Animation\n",
    "\n",
    "Here is the Simulated Annealing process visualized:"
   ],
   "id": "a70aa71e426150d"
  },
  {
   "metadata": {},
   "cell_type": "markdown",
   "source": [
    "<table>\n",
    "<tr>\n",
    "  <td><img src=\"../assets/SimulatedAnnealing/sphere.gif\" width=\"500\"/></td>\n",
    "  <td><img src=\"../assets/SimulatedAnnealing/ackley.gif\" width=\"500\"/></td>\n",
    "  <td><img src=\"../assets/SimulatedAnnealing/rastrigin.gif\" width=\"500\"/></td>\n",
    "</tr>\n",
    "<tr>\n",
    "  <td><img src=\"../assets/SimulatedAnnealing/rosenbrock.gif\" width=\"500\"/></td>\n",
    "  <td><img src=\"../assets/SimulatedAnnealing/griewank.gif\" width=\"500\"/></td>\n",
    "  <td><img src=\"../assets/SimulatedAnnealing/schwefel.gif\" width=\"500\"/></td>\n",
    "</tr>\n",
    "<tr>\n",
    "  <td><img src=\"../assets/SimulatedAnnealing/levy.gif\" width=\"500\"/></td>\n",
    "  <td><img src=\"../assets/SimulatedAnnealing/michalewicz.gif\" width=\"500\"/></td>\n",
    "  <td><img src=\"../assets/SimulatedAnnealing/zakharov.gif\" width=\"500\"/></td>\n",
    "</tr>\n",
    "</table>"
   ],
   "id": "e57b8223277a4fe7"
  },
  {
   "metadata": {},
   "cell_type": "markdown",
   "source": [
    "## Summary\n",
    "- Simulated Annealing is stochastic and derivative-free, suitable for multimodal functions.\n",
    "- Can escape local minima due to probabilistic acceptance of worse solutions.\n",
    "- Cooling schedule and temperature control are critical for efficiency."
   ],
   "id": "a6ae38efdd13a400"
  }
 ],
 "metadata": {
  "kernelspec": {
   "display_name": "Python 3",
   "language": "python",
   "name": "python3"
  },
  "language_info": {
   "codemirror_mode": {
    "name": "ipython",
    "version": 2
   },
   "file_extension": ".py",
   "mimetype": "text/x-python",
   "name": "python",
   "nbconvert_exporter": "python",
   "pygments_lexer": "ipython2",
   "version": "2.7.6"
  }
 },
 "nbformat": 4,
 "nbformat_minor": 5
}
